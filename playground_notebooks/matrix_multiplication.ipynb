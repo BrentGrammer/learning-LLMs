{
 "cells": [
  {
   "cell_type": "code",
   "execution_count": 7,
   "metadata": {},
   "outputs": [
    {
     "name": "stdout",
     "output_type": "stream",
     "text": [
      "C11 = (1 * 7) + (2 * 9) = 25\n",
      "C12 = (1 * 8) + (2 * 10) = 28\n",
      "Full result:\n",
      "[[ 25  28]\n",
      " [ 57  64]\n",
      " [ 89 100]]\n"
     ]
    }
   ],
   "source": [
    "# How Matrix Multiplication works\n",
    "\n",
    "import numpy as np\n",
    "\n",
    "A = np.array([[1, 2],\n",
    "              [3, 4],\n",
    "              [5, 6]])\n",
    "\n",
    "B = np.array([[7, 8],\n",
    "             [9, 10]])\n",
    "\n",
    "# Multiply the row by each column in the other matrix. Each col in other matrix is an element in the row of the result matrix\n",
    "# You have to go through all the columns on Matrix B per row of Matrix A to complete computation on one row of Matrix A (which makes a row of the product matrix)\n",
    "\n",
    "# calculate C11 (the first element of the result matrix) manually\n",
    "C11 = (A[0,0] * B[0,0]) + (A[0,1] * B[1,0])\n",
    "print(f\"C11 = ({A[0,0]} * {B[0,0]}) + ({A[0,1]} * {B[1,0]}) = {C11}\")\n",
    "\n",
    "C12 = (A[0,0] * B[0,1]) + (A[0,1] * B[1,1])\n",
    "print(f\"C12 = ({A[0,0]} * {B[0,1]}) + ({A[0,1]} * {B[1,1]}) = {C12}\")\n",
    "\n",
    "# full matrix multiplication\n",
    "C = A @ B\n",
    "print(\"Full result:\")\n",
    "print(C)\n",
    "\n",
    "# Matrix A must have same num cols m as Matrix B rows n -> n x m_col * m_col x m\n",
    "# need to multiply each row in Matrix A by each col in Matrix B\n",
    "  # each rowxcol -> one row element in result matrix\n",
    "# once all cols in matrix B have been multiplied by, you're done with that row in the result matrix. Move to next row in Matrix A\n",
    "\n"
   ]
  }
 ],
 "metadata": {
  "kernelspec": {
   "display_name": "pytorch2023",
   "language": "python",
   "name": "python3"
  },
  "language_info": {
   "codemirror_mode": {
    "name": "ipython",
    "version": 3
   },
   "file_extension": ".py",
   "mimetype": "text/x-python",
   "name": "python",
   "nbconvert_exporter": "python",
   "pygments_lexer": "ipython3",
   "version": "3.10.13"
  }
 },
 "nbformat": 4,
 "nbformat_minor": 2
}
