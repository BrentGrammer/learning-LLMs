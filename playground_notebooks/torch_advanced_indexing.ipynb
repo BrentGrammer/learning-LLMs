{
 "cells": [
  {
   "cell_type": "code",
   "execution_count": 14,
   "metadata": {},
   "outputs": [
    {
     "name": "stdout",
     "output_type": "stream",
     "text": [
      "Emma\n",
      "Liam\n",
      "Olivia\n",
      "Noah\n",
      "Ava\n",
      "C embedding space matrix:\n",
      "tensor([[-0.8813, -1.8156],\n",
      "        [ 1.6812, -0.0343],\n",
      "        [ 1.6674,  0.5154]])\n"
     ]
    }
   ],
   "source": [
    "import torch\n",
    "\n",
    "words = open('names.txt', 'r').read().splitlines()\n",
    "chars = sorted(list(set(''.join(words))))\n",
    "NUM_CHARS = len(chars)+1\n",
    "stoi = {s:i+1 for i,s in enumerate(chars)}\n",
    "stoi['.'] = 0\n",
    "\n",
    "block_size = 3\n",
    "X,Y = [],[]\n",
    "\n",
    "for w in words[:5]:\n",
    "    print(w)\n",
    "    context = [0] * block_size # [0,0,0] \n",
    "    for ch in w + '.':\n",
    "        ix = stoi[ch]\n",
    "        X.append(context) \n",
    "        Y.append(ix)\n",
    "        context = context[1:] + [ix]\n",
    "\n",
    "X = torch.tensor(X)\n",
    "Y = torch.tensor(Y)\n",
    "\n",
    "embeddings_dims = 2\n",
    "C = torch.randn((NUM_CHARS, embeddings_dims))\n",
    "print('C embedding space matrix:')\n",
    "print(C[:3])"
   ]
  },
  {
   "cell_type": "code",
   "execution_count": 15,
   "metadata": {},
   "outputs": [
    {
     "name": "stdout",
     "output_type": "stream",
     "text": [
      "tensor([[-0.1432,  0.3760],\n",
      "        [-0.1884, -1.3208],\n",
      "        [ 1.8605, -0.4045]])\n",
      "tensor([[-0.1432,  0.3760],\n",
      "        [-0.1884, -1.3208],\n",
      "        [ 1.8605, -0.4045],\n",
      "        [ 1.8605, -0.4045],\n",
      "        [ 1.8605, -0.4045]])\n",
      "X shape: torch.Size([26, 3])\n",
      "C shape: torch.Size([47, 2])\n",
      "\n",
      "C (trunc.) = tensor([[-0.8813, -1.8156],\n",
      "        [ 1.6812, -0.0343]])\n",
      "\n",
      "\n",
      "block X[13] = tensor([13, 33, 30])\n",
      "3rd char of block X[13,2] = 30\n",
      "C = tensor([-1.3723, -0.7026])\n",
      "Indexing into C - embedding for X[13,2] (C[X][13,2]): tensor([1.2261, 0.0078])\n",
      "\n",
      "C[X] (trunc.) = tensor([[[-0.8813, -1.8156],\n",
      "         [-0.8813, -1.8156],\n",
      "         [-0.8813, -1.8156]],\n",
      "\n",
      "        [[-0.8813, -1.8156],\n",
      "         [-0.8813, -1.8156],\n",
      "         [-0.1432,  0.3760]]])\n",
      "C[X] shape: torch.Size([26, 3, 2])\n",
      "\n",
      "\n",
      "X (trunc.) = tensor([[0, 0, 0],\n",
      "        [0, 0, 5]])\n",
      "C (trunc.) = tensor([[-0.8813, -1.8156],\n",
      "        [ 1.6812, -0.0343]])\n"
     ]
    }
   ],
   "source": [
    "\n",
    "\n",
    "\n",
    "# Indexing into torch tensors with lists:\n",
    "print(C[ [5,6,7] ]) # get the 5th, 6th and 7th rows of matrix C by passing in a list of indexes\n",
    "\n",
    "# You can also pass in tensors and repeat rows to get them multiple times:\n",
    "print(C[ torch.tensor([5,6,7,7,7]) ])\n",
    "\n",
    "\n",
    "\n",
    "# indexing into C using X - see timestamp 17:39\n",
    "blocks = X\n",
    "\n",
    "\n",
    "print(f'X shape: {blocks.shape}') # ex 26 rows by 3 cols. Sets of the blocks of chars (inputs)\n",
    "print(f'C shape: {C.shape}') # Each character in the training set has a vector coordinates set\n",
    "print(f'\\nC (trunc.) = {C[:2]}') # show some vector coordinates\n",
    "\n",
    "print('\\n')\n",
    "\n",
    "print(f'block X[13] = {blocks[13]}') # [n,n,n] - 13th row showing a block of character inputs\n",
    "print(f'3rd char of block X[13,2] = {blocks[13,2]}') # 13th row, 2nd dimension (3rd col), 3rd character in that block\n",
    "print(f'C = {C[13]}')\n",
    "print(f'Indexing into C - embedding for X[13,2] (C[X][13,2]): {C[blocks][13,2]}')\n",
    "\n",
    "print(f'\\nC[X] (trunc.) = {C[blocks][:2]}')\n",
    "print(f'C[X] shape: {C[blocks].shape}') # 26 rows, each row has 3 rows in it (the block size), each of those has 2 entries (the embedding)\n",
    "# [ \n",
    "#   [ # lines up with block size of 3 chars in X\n",
    "#       [x,y],[x,y],[x,y] # emebeddings for each char in a block\n",
    "#   ] \n",
    "# ]\n",
    "# Each Row in C[X] is a set of embeddings (xy coords) for each character in the block\n",
    "print('\\n')\n",
    "print(f'X (trunc.) = {blocks[:2]}')\n",
    "print(f'C (trunc.) = {C[:2]}')"
   ]
  },
  {
   "cell_type": "code",
   "execution_count": 16,
   "metadata": {},
   "outputs": [
    {
     "name": "stdout",
     "output_type": "stream",
     "text": [
      "blocks: tensor([[0, 0, 0]])\n",
      "C: tensor([[-0.8813, -1.8156]])\n",
      "\n",
      "C[blocks]: tensor([[-0.8813, -1.8156],\n",
      "        [-0.8813, -1.8156],\n",
      "        [-0.8813, -1.8156]])\n",
      "\n",
      "\n",
      "X[1] second block of char ints = tensor([0, 0, 5])\n",
      "embedding for first char int 0 - C[0] = tensor([-0.8813, -1.8156])\n",
      "embedding for second char int 0 - C[0] = tensor([-0.8813, -1.8156])\n",
      "embedding for third char int 5 - C[5] = tensor([-0.1432,  0.3760])\n",
      "\n",
      "C[X][1] = tensor([[-0.8813, -1.8156],\n",
      "        [-0.8813, -1.8156],\n",
      "        [-0.1432,  0.3760]])\n",
      "\n",
      "tensor([[-0.8813, -1.8156],\n",
      "        [-0.8813, -1.8156],\n",
      "        [-0.1432,  0.3760]])\n"
     ]
    },
    {
     "data": {
      "text/plain": [
       "tensor([[-0.8813, -1.8156],\n",
       "        [-0.8813, -1.8156],\n",
       "        [-0.8813, -1.8156]])"
      ]
     },
     "execution_count": 16,
     "metadata": {},
     "output_type": "execute_result"
    }
   ],
   "source": [
    "print(f'blocks: {blocks[:1]}')\n",
    "print(f'C: {C[:1]}\\n')\n",
    "print(f'C[blocks]: {C[blocks][0]}') # get the first row of C three times (0,0,0 in first block of X)\n",
    "# Each number in blocks is a character in that block\n",
    "# the character number corresponds to a row in C (which is the coordinate embedding for that character - the row index = character number)\n",
    "\n",
    "print('\\n')\n",
    "\n",
    "# indexing into C with X gets coordinates (a row in C) for each one of the characters in a block and puts that all into one row in the resulting Matrix\n",
    "print(f'X[1] second block of char ints = {X[1]}') # block ints of chars: example: 0,0,5\n",
    "print(f'embedding for first char int {X[1][0]} - C[{X[1][0]}] = {C[0]}') # coord embedding for first char in 2nd block for char int 0\n",
    "print(f'embedding for second char int {X[1][1]} - C[{X[1][0]}] = {C[0]}') # coord embedding for second char in 2nd block for char int 0\n",
    "print(f'embedding for third char int {X[1][2]} - C[{X[1][2]}] = {C[5]}') # coord embedding for third char in 2nd block for char int 5\n",
    "print(f'\\nC[X][1] = {C[X][1]}\\n')\n",
    "\n",
    "print(f'{C[X][1]}')\n",
    "C[[0,0,0]]"
   ]
  },
  {
   "cell_type": "code",
   "execution_count": 17,
   "metadata": {},
   "outputs": [
    {
     "name": "stdout",
     "output_type": "stream",
     "text": [
      "tensor([[0, 0, 0],\n",
      "        [0, 0, 5]])\n",
      "tensor([[0, 0, 0],\n",
      "        [0, 0, 5]])\n",
      "tensor([[[-0.8813, -1.8156],\n",
      "         [-0.8813, -1.8156],\n",
      "         [-0.8813, -1.8156]],\n",
      "\n",
      "        [[-0.8813, -1.8156],\n",
      "         [-0.8813, -1.8156],\n",
      "         [-0.1432,  0.3760]]])\n"
     ]
    },
    {
     "data": {
      "text/plain": [
       "tensor([[[-0.8813, -1.8156],\n",
       "         [-0.8813, -1.8156],\n",
       "         [-0.8813, -1.8156]],\n",
       "\n",
       "        [[-0.8813, -1.8156],\n",
       "         [-0.8813, -1.8156],\n",
       "         [-0.1432,  0.3760]]])"
      ]
     },
     "execution_count": 17,
     "metadata": {},
     "output_type": "execute_result"
    }
   ],
   "source": [
    "\n",
    "############################################################################################################################################################ \n",
    "#  indexing into C with X gets coordinates (a row in C) for each one of the characters in a block and puts that all into one row in the resulting Matrix \n",
    "# ###########################################################################################################################################################\n",
    "# print(f'C[X] = {C[X]}') # X is a list of blocks\n",
    "print(X[:2])\n",
    "C[[0,0,5]] # example - the second block of X is a list so we index into C with that to get coordinates for each char in the block (the index of C lines up with coordinates for the char int representation)\n",
    "\n",
    "XX = X[:2]\n",
    "print(XX)\n",
    "\n",
    "print(C[XX])\n",
    "\n",
    "C[torch.tensor([[0, 0, 0],\n",
    "        [0, 0, 5]])]"
   ]
  }
 ],
 "metadata": {
  "kernelspec": {
   "display_name": "pytorch2023",
   "language": "python",
   "name": "python3"
  },
  "language_info": {
   "codemirror_mode": {
    "name": "ipython",
    "version": 3
   },
   "file_extension": ".py",
   "mimetype": "text/x-python",
   "name": "python",
   "nbconvert_exporter": "python",
   "pygments_lexer": "ipython3",
   "version": "3.10.13"
  }
 },
 "nbformat": 4,
 "nbformat_minor": 2
}
